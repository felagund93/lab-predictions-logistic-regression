{
 "cells": [
  {
   "cell_type": "markdown",
   "id": "e31e3898",
   "metadata": {},
   "source": [
    "Lab | Making predictions with logistic regression\n",
    "\n",
    "In this lab, you will be using the [Sakila](https://dev.mysql.com/doc/sakila/en/) database of movie rentals.\n",
    "\n",
    "In order to optimize our inventory, we would like to know which films will be rented next month and we are asked to create a model to predict it.\n",
    "\n",
    "### Instructions\n",
    "\n",
    "1. Create a query or queries to extract the information you think may be relevant for building the prediction model. It should include some film features and some rental features.\n",
    "2. Read the data into a Pandas dataframe.\n",
    "3. Analyze extracted features and transform them. You may need to encode some categorical variables, or scale numerical variables.\n",
    "4. Create a query to get the list of films and a boolean indicating if it was rented last month. This would be our target variable.\n",
    "5. Create a logistic regression model to predict this variable from the cleaned data.\n",
    "6. Evaluate the results."
   ]
  },
  {
   "cell_type": "code",
   "execution_count": null,
   "id": "16c667ab",
   "metadata": {},
   "outputs": [],
   "source": []
  }
 ],
 "metadata": {
  "kernelspec": {
   "display_name": "Python 3",
   "language": "python",
   "name": "python3"
  },
  "language_info": {
   "codemirror_mode": {
    "name": "ipython",
    "version": 3
   },
   "file_extension": ".py",
   "mimetype": "text/x-python",
   "name": "python",
   "nbconvert_exporter": "python",
   "pygments_lexer": "ipython3",
   "version": "3.8.8"
  }
 },
 "nbformat": 4,
 "nbformat_minor": 5
}
